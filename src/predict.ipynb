{
 "cells": [
  {
   "cell_type": "markdown",
   "metadata": {},
   "source": [
    "## Imports"
   ]
  },
  {
   "cell_type": "code",
   "execution_count": 1,
   "metadata": {
    "vscode": {
     "languageId": "r"
    }
   },
   "outputs": [],
   "source": [
    "# DO NOT CHANGE THESE LINES.\n",
    "suppressWarnings(\n",
    "  suppressMessages({\n",
    "    library(tidyverse)\n",
    "    library(jsonlite)\n",
    "    library(fastDummies)\n",
    "    library(nnet)\n",
    "  })\n",
    ")"
   ]
  },
  {
   "cell_type": "markdown",
   "metadata": {},
   "source": [
    "## Paths"
   ]
  },
  {
   "cell_type": "code",
   "execution_count": 2,
   "metadata": {
    "vscode": {
     "languageId": "r"
    }
   },
   "outputs": [],
   "source": [
    "# DO NOT CHANGE THESE LINES.\n",
    "ROOT_DIR <- dirname(getwd())\n",
    "MODEL_INPUTS_OUTPUTS <- file.path(ROOT_DIR, 'model_inputs_outputs')\n",
    "INPUT_DIR <- file.path(MODEL_INPUTS_OUTPUTS, \"inputs\")\n",
    "OUTPUT_DIR <- file.path(MODEL_INPUTS_OUTPUTS, \"outputs\")\n",
    "INPUT_SCHEMA_DIR <- file.path(INPUT_DIR, \"schema\")\n",
    "DATA_DIR <- file.path(INPUT_DIR, \"data\")\n",
    "TRAIN_DIR <- file.path(DATA_DIR, \"training\")\n",
    "TEST_DIR <- file.path(DATA_DIR, \"testing\")\n",
    "MODEL_PATH <- file.path(MODEL_INPUTS_OUTPUTS, \"model\")\n",
    "MODEL_ARTIFACTS_PATH <- file.path(MODEL_PATH, \"artifacts\")\n",
    "OHE_ENCODER_FILE <- file.path(MODEL_ARTIFACTS_PATH, 'ohe.rds')\n",
    "PREDICTOR_DIR_PATH <- file.path(MODEL_ARTIFACTS_PATH, \"predictor\")\n",
    "PREDICTOR_FILE_PATH <- file.path(PREDICTOR_DIR_PATH, \"predictor.rds\")\n",
    "IMPUTATION_FILE <- file.path(MODEL_ARTIFACTS_PATH, 'imputation.rds')\n",
    "PREDICTIONS_DIR <- file.path(OUTPUT_DIR, 'predictions')\n",
    "PREDICTIONS_FILE <- file.path(PREDICTIONS_DIR, 'predictions.csv')\n",
    "LABEL_ENCODER_FILE <- file.path(MODEL_ARTIFACTS_PATH, 'label_encoder.rds')\n",
    "ENCODED_TARGET_FILE <- file.path(MODEL_ARTIFACTS_PATH, \"encoded_target.rds\")\n",
    "TOP_3_CATEGORIES_MAP <- file.path(MODEL_ARTIFACTS_PATH, \"top_3_map.rds\")\n",
    "\n",
    "if (!dir.exists(PREDICTIONS_DIR)) {\n",
    "  dir.create(PREDICTIONS_DIR, recursive = TRUE)\n",
    "}"
   ]
  },
  {
   "cell_type": "markdown",
   "metadata": {},
   "source": [
    "### Reading the schema"
   ]
  },
  {
   "cell_type": "code",
   "execution_count": 3,
   "metadata": {
    "vscode": {
     "languageId": "r"
    }
   },
   "outputs": [],
   "source": [
    "file_name <- list.files(INPUT_SCHEMA_DIR, pattern = \"*.json\")[1]\n",
    "schema <- fromJSON(file.path(INPUT_SCHEMA_DIR, file_name))\n",
    "features <- schema$features\n",
    "numeric_features <- features$name[features$dataType != 'CATEGORICAL']\n",
    "categorical_features <- features$name[features$dataType == 'CATEGORICAL']\n",
    "id_feature <- schema$id$name\n",
    "target_feature <- schema$target$name\n",
    "model_category <- schema$modelCategory\n",
    "nullable_features <- features$name[features$nullable == TRUE]\n"
   ]
  },
  {
   "cell_type": "markdown",
   "metadata": {},
   "source": [
    "### Reading test data."
   ]
  },
  {
   "cell_type": "code",
   "execution_count": 4,
   "metadata": {
    "vscode": {
     "languageId": "r"
    }
   },
   "outputs": [],
   "source": [
    "# Reading test data.\n",
    "file_name <- list.files(TEST_DIR, pattern = \"*.csv\", full.names = TRUE)[1]\n",
    "# Read the first line to get column names\n",
    "header_line <- readLines(file_name, n = 1)\n",
    "col_names <- unlist(strsplit(header_line, split = \",\")) # assuming ',' is the delimiter\n",
    "# Read the CSV with the exact column names\n",
    "df <- read.csv(file_name, skip = 1, col.names = col_names, check.names=FALSE)"
   ]
  },
  {
   "cell_type": "markdown",
   "metadata": {},
   "source": [
    "## Data preprocessing\n",
    "Note that when we work with testing data, we have to impute using the same values learned during training. This is to avoid data leakage."
   ]
  },
  {
   "cell_type": "code",
   "execution_count": 5,
   "metadata": {
    "vscode": {
     "languageId": "r"
    }
   },
   "outputs": [],
   "source": [
    "imputation_values <- readRDS(IMPUTATION_FILE)\n",
    "for (column in names(df)[sapply(df, function(col) any(is.na(col)))]) {\n",
    "  df[, column][is.na(df[, column])] <- imputation_values[[column]]\n",
    "}"
   ]
  },
  {
   "cell_type": "code",
   "execution_count": 6,
   "metadata": {
    "vscode": {
     "languageId": "r"
    }
   },
   "outputs": [
    {
     "data": {
      "text/html": [
       "<table class=\"dataframe\">\n",
       "<caption>A data.frame: 6 × 40</caption>\n",
       "<thead>\n",
       "\t<tr><th></th><th scope=col>act_combined_midrange</th><th scope=col>act_english_midrange</th><th scope=col>act_math_midrange</th><th scope=col>act_writing_midrange</th><th scope=col>admission_rate</th><th scope=col>agege24</th><th scope=col>average_cost_academic_year</th><th scope=col>average_cost_program_year</th><th scope=col>carnegie_basic_classification</th><th scope=col>carnegie_size</th><th scope=col>⋯</th><th scope=col>religious_affiliation</th><th scope=col>sat_math_midrange</th><th scope=col>sat_total_average</th><th scope=col>sat_verbal_midrange</th><th scope=col>sat_writing_midrange</th><th scope=col>spend_per_student</th><th scope=col>state</th><th scope=col>tuition_(instate)</th><th scope=col>tuition_(out_of_state)</th><th scope=col>undergrad_size</th></tr>\n",
       "\t<tr><th></th><th scope=col>&lt;dbl&gt;</th><th scope=col>&lt;dbl&gt;</th><th scope=col>&lt;dbl&gt;</th><th scope=col>&lt;dbl&gt;</th><th scope=col>&lt;dbl&gt;</th><th scope=col>&lt;dbl&gt;</th><th scope=col>&lt;dbl&gt;</th><th scope=col>&lt;dbl&gt;</th><th scope=col>&lt;chr&gt;</th><th scope=col>&lt;chr&gt;</th><th scope=col>⋯</th><th scope=col>&lt;chr&gt;</th><th scope=col>&lt;dbl&gt;</th><th scope=col>&lt;dbl&gt;</th><th scope=col>&lt;dbl&gt;</th><th scope=col>&lt;dbl&gt;</th><th scope=col>&lt;dbl&gt;</th><th scope=col>&lt;chr&gt;</th><th scope=col>&lt;dbl&gt;</th><th scope=col>&lt;dbl&gt;</th><th scope=col>&lt;dbl&gt;</th></tr>\n",
       "</thead>\n",
       "<tbody>\n",
       "\t<tr><th scope=row>1</th><td>23</td><td>22</td><td>22</td><td>7</td><td>0.6976</td><td>0.00</td><td>17300</td><td>17831</td><td>Special Focus Institutions--Theological seminaries, Bible colleges, and other faith-related institutions</td><td>                                                     </td><td>⋯</td><td>Jewish</td><td>520</td><td>1035.5</td><td>514</td><td>510</td><td>8516</td><td>FL</td><td> 8400</td><td> 8400</td><td>  51</td></tr>\n",
       "\t<tr><th scope=row>2</th><td>23</td><td>22</td><td>22</td><td>7</td><td>0.6976</td><td>0.47</td><td>15178</td><td>17831</td><td>Associate\\s--Public Urban-serving Multicampus'                                                         </td><td>Medium 2-year (2000 to 4,999)                        </td><td>⋯</td><td>      </td><td>520</td><td>1035.5</td><td>514</td><td>510</td><td>5065</td><td>CA</td><td> 1142</td><td> 5942</td><td>5707</td></tr>\n",
       "\t<tr><th scope=row>3</th><td>23</td><td>22</td><td>22</td><td>7</td><td>0.6976</td><td>0.46</td><td>22933</td><td>24908</td><td>                                                                                                        </td><td>                                                     </td><td>⋯</td><td>      </td><td>520</td><td>1035.5</td><td>514</td><td>510</td><td>7178</td><td>TX</td><td>11736</td><td>14498</td><td>  29</td></tr>\n",
       "\t<tr><th scope=row>4</th><td>23</td><td>22</td><td>22</td><td>7</td><td>0.6976</td><td>0.64</td><td>22933</td><td>21500</td><td>                                                                                                        </td><td>                                                     </td><td>⋯</td><td>      </td><td>520</td><td>1035.5</td><td>514</td><td>510</td><td>5155</td><td>NY</td><td>11736</td><td>14498</td><td>  37</td></tr>\n",
       "\t<tr><th scope=row>5</th><td>22</td><td>22</td><td>21</td><td>7</td><td>0.7313</td><td>0.14</td><td>18466</td><td>17831</td><td>Master\\s Colleges and Universities (medium programs)'                                                  </td><td>Medium 4-year, primarily residential (3,000 to 9,999)</td><td>⋯</td><td>      </td><td>520</td><td>1030.0</td><td>514</td><td>510</td><td>6506</td><td>MI</td><td> 9037</td><td>14113</td><td>7959</td></tr>\n",
       "\t<tr><th scope=row>6</th><td>26</td><td>24</td><td>26</td><td>7</td><td>0.6547</td><td>0.18</td><td>26700</td><td>17831</td><td>Research Universities (high research activity)                                                          </td><td>Medium 4-year, primarily residential (3,000 to 9,999)</td><td>⋯</td><td>      </td><td>605</td><td>1142.0</td><td>535</td><td>530</td><td>8337</td><td>NJ</td><td>15218</td><td>28274</td><td>6449</td></tr>\n",
       "</tbody>\n",
       "</table>\n"
      ],
      "text/latex": [
       "A data.frame: 6 × 40\n",
       "\\begin{tabular}{r|lllllllllllllllllllll}\n",
       "  & act\\_combined\\_midrange & act\\_english\\_midrange & act\\_math\\_midrange & act\\_writing\\_midrange & admission\\_rate & agege24 & average\\_cost\\_academic\\_year & average\\_cost\\_program\\_year & carnegie\\_basic\\_classification & carnegie\\_size & ⋯ & religious\\_affiliation & sat\\_math\\_midrange & sat\\_total\\_average & sat\\_verbal\\_midrange & sat\\_writing\\_midrange & spend\\_per\\_student & state & tuition\\_(instate) & tuition\\_(out\\_of\\_state) & undergrad\\_size\\\\\n",
       "  & <dbl> & <dbl> & <dbl> & <dbl> & <dbl> & <dbl> & <dbl> & <dbl> & <chr> & <chr> & ⋯ & <chr> & <dbl> & <dbl> & <dbl> & <dbl> & <dbl> & <chr> & <dbl> & <dbl> & <dbl>\\\\\n",
       "\\hline\n",
       "\t1 & 23 & 22 & 22 & 7 & 0.6976 & 0.00 & 17300 & 17831 & Special Focus Institutions--Theological seminaries, Bible colleges, and other faith-related institutions &                                                       & ⋯ & Jewish & 520 & 1035.5 & 514 & 510 & 8516 & FL &  8400 &  8400 &   51\\\\\n",
       "\t2 & 23 & 22 & 22 & 7 & 0.6976 & 0.47 & 15178 & 17831 & Associate\\textbackslash{}s--Public Urban-serving Multicampus'                                                          & Medium 2-year (2000 to 4,999)                         & ⋯ &        & 520 & 1035.5 & 514 & 510 & 5065 & CA &  1142 &  5942 & 5707\\\\\n",
       "\t3 & 23 & 22 & 22 & 7 & 0.6976 & 0.46 & 22933 & 24908 &                                                                                                          &                                                       & ⋯ &        & 520 & 1035.5 & 514 & 510 & 7178 & TX & 11736 & 14498 &   29\\\\\n",
       "\t4 & 23 & 22 & 22 & 7 & 0.6976 & 0.64 & 22933 & 21500 &                                                                                                          &                                                       & ⋯ &        & 520 & 1035.5 & 514 & 510 & 5155 & NY & 11736 & 14498 &   37\\\\\n",
       "\t5 & 22 & 22 & 21 & 7 & 0.7313 & 0.14 & 18466 & 17831 & Master\\textbackslash{}s Colleges and Universities (medium programs)'                                                   & Medium 4-year, primarily residential (3,000 to 9,999) & ⋯ &        & 520 & 1030.0 & 514 & 510 & 6506 & MI &  9037 & 14113 & 7959\\\\\n",
       "\t6 & 26 & 24 & 26 & 7 & 0.6547 & 0.18 & 26700 & 17831 & Research Universities (high research activity)                                                           & Medium 4-year, primarily residential (3,000 to 9,999) & ⋯ &        & 605 & 1142.0 & 535 & 530 & 8337 & NJ & 15218 & 28274 & 6449\\\\\n",
       "\\end{tabular}\n"
      ],
      "text/markdown": [
       "\n",
       "A data.frame: 6 × 40\n",
       "\n",
       "| <!--/--> | act_combined_midrange &lt;dbl&gt; | act_english_midrange &lt;dbl&gt; | act_math_midrange &lt;dbl&gt; | act_writing_midrange &lt;dbl&gt; | admission_rate &lt;dbl&gt; | agege24 &lt;dbl&gt; | average_cost_academic_year &lt;dbl&gt; | average_cost_program_year &lt;dbl&gt; | carnegie_basic_classification &lt;chr&gt; | carnegie_size &lt;chr&gt; | ⋯ ⋯ | religious_affiliation &lt;chr&gt; | sat_math_midrange &lt;dbl&gt; | sat_total_average &lt;dbl&gt; | sat_verbal_midrange &lt;dbl&gt; | sat_writing_midrange &lt;dbl&gt; | spend_per_student &lt;dbl&gt; | state &lt;chr&gt; | tuition_(instate) &lt;dbl&gt; | tuition_(out_of_state) &lt;dbl&gt; | undergrad_size &lt;dbl&gt; |\n",
       "|---|---|---|---|---|---|---|---|---|---|---|---|---|---|---|---|---|---|---|---|---|---|\n",
       "| 1 | 23 | 22 | 22 | 7 | 0.6976 | 0.00 | 17300 | 17831 | Special Focus Institutions--Theological seminaries, Bible colleges, and other faith-related institutions | <!----> | ⋯ | Jewish | 520 | 1035.5 | 514 | 510 | 8516 | FL |  8400 |  8400 |   51 |\n",
       "| 2 | 23 | 22 | 22 | 7 | 0.6976 | 0.47 | 15178 | 17831 | Associate\\s--Public Urban-serving Multicampus'                                                          | Medium 2-year (2000 to 4,999)                         | ⋯ | <!----> | 520 | 1035.5 | 514 | 510 | 5065 | CA |  1142 |  5942 | 5707 |\n",
       "| 3 | 23 | 22 | 22 | 7 | 0.6976 | 0.46 | 22933 | 24908 | <!----> | <!----> | ⋯ | <!----> | 520 | 1035.5 | 514 | 510 | 7178 | TX | 11736 | 14498 |   29 |\n",
       "| 4 | 23 | 22 | 22 | 7 | 0.6976 | 0.64 | 22933 | 21500 | <!----> | <!----> | ⋯ | <!----> | 520 | 1035.5 | 514 | 510 | 5155 | NY | 11736 | 14498 |   37 |\n",
       "| 5 | 22 | 22 | 21 | 7 | 0.7313 | 0.14 | 18466 | 17831 | Master\\s Colleges and Universities (medium programs)'                                                   | Medium 4-year, primarily residential (3,000 to 9,999) | ⋯ | <!----> | 520 | 1030.0 | 514 | 510 | 6506 | MI |  9037 | 14113 | 7959 |\n",
       "| 6 | 26 | 24 | 26 | 7 | 0.6547 | 0.18 | 26700 | 17831 | Research Universities (high research activity)                                                           | Medium 4-year, primarily residential (3,000 to 9,999) | ⋯ | <!----> | 605 | 1142.0 | 535 | 530 | 8337 | NJ | 15218 | 28274 | 6449 |\n",
       "\n"
      ],
      "text/plain": [
       "  act_combined_midrange act_english_midrange act_math_midrange\n",
       "1 23                    22                   22               \n",
       "2 23                    22                   22               \n",
       "3 23                    22                   22               \n",
       "4 23                    22                   22               \n",
       "5 22                    22                   21               \n",
       "6 26                    24                   26               \n",
       "  act_writing_midrange admission_rate agege24 average_cost_academic_year\n",
       "1 7                    0.6976         0.00    17300                     \n",
       "2 7                    0.6976         0.47    15178                     \n",
       "3 7                    0.6976         0.46    22933                     \n",
       "4 7                    0.6976         0.64    22933                     \n",
       "5 7                    0.7313         0.14    18466                     \n",
       "6 7                    0.6547         0.18    26700                     \n",
       "  average_cost_program_year\n",
       "1 17831                    \n",
       "2 17831                    \n",
       "3 24908                    \n",
       "4 21500                    \n",
       "5 17831                    \n",
       "6 17831                    \n",
       "  carnegie_basic_classification                                                                           \n",
       "1 Special Focus Institutions--Theological seminaries, Bible colleges, and other faith-related institutions\n",
       "2 Associate\\\\s--Public Urban-serving Multicampus'                                                         \n",
       "3                                                                                                         \n",
       "4                                                                                                         \n",
       "5 Master\\\\s Colleges and Universities (medium programs)'                                                  \n",
       "6 Research Universities (high research activity)                                                          \n",
       "  carnegie_size                                         ⋯ religious_affiliation\n",
       "1                                                       ⋯ Jewish               \n",
       "2 Medium 2-year (2000 to 4,999)                         ⋯                      \n",
       "3                                                       ⋯                      \n",
       "4                                                       ⋯                      \n",
       "5 Medium 4-year, primarily residential (3,000 to 9,999) ⋯                      \n",
       "6 Medium 4-year, primarily residential (3,000 to 9,999) ⋯                      \n",
       "  sat_math_midrange sat_total_average sat_verbal_midrange sat_writing_midrange\n",
       "1 520               1035.5            514                 510                 \n",
       "2 520               1035.5            514                 510                 \n",
       "3 520               1035.5            514                 510                 \n",
       "4 520               1035.5            514                 510                 \n",
       "5 520               1030.0            514                 510                 \n",
       "6 605               1142.0            535                 530                 \n",
       "  spend_per_student state tuition_(instate) tuition_(out_of_state)\n",
       "1 8516              FL     8400              8400                 \n",
       "2 5065              CA     1142              5942                 \n",
       "3 7178              TX    11736             14498                 \n",
       "4 5155              NY    11736             14498                 \n",
       "5 6506              MI     9037             14113                 \n",
       "6 8337              NJ    15218             28274                 \n",
       "  undergrad_size\n",
       "1   51          \n",
       "2 5707          \n",
       "3   29          \n",
       "4   37          \n",
       "5 7959          \n",
       "6 6449          "
      ]
     },
     "metadata": {},
     "output_type": "display_data"
    }
   ],
   "source": [
    "# Saving the id column in a different variable and then dropping it.\n",
    "ids <- df[[id_feature]]\n",
    "df[[id_feature]] <- NULL\n",
    "head(df)"
   ]
  },
  {
   "cell_type": "markdown",
   "metadata": {},
   "source": [
    "### Encoding\n",
    "We encode the data using the same encoder that we saved during training."
   ]
  },
  {
   "cell_type": "code",
   "execution_count": 7,
   "metadata": {
    "vscode": {
     "languageId": "r"
    }
   },
   "outputs": [],
   "source": [
    "if (length(categorical_features) > 0 && file.exists(OHE_ENCODER_FILE)) {\n",
    "  top_3_map <- readRDS(TOP_3_CATEGORIES_MAP)\n",
    "  encoder <- readRDS(OHE_ENCODER_FILE)\n",
    "  for(col in categorical_features) {\n",
    "    # Use the saved top 3 categories to replace values outside these categories with 'Other'\n",
    "    df[[col]][!(df[[col]] %in% top_3_map[[col]])] <- \"Other\"\n",
    "  }\n",
    "\n",
    "  test_df_encoded <- dummy_cols(df, select_columns = categorical_features, remove_selected_columns = TRUE)\n",
    "  encoded_columns <- readRDS(OHE_ENCODER_FILE)\n",
    "  # Add missing columns with 0s\n",
    "    for (col in encoded_columns) {\n",
    "        if (!col %in% colnames(test_df_encoded)) {\n",
    "            test_df_encoded[[col]] <- 0\n",
    "        }\n",
    "    }\n",
    "\n",
    "# Remove extra columns\n",
    "    extra_cols <- setdiff(colnames(test_df_encoded), c(colnames(df), encoded_columns))\n",
    "    df <- test_df_encoded[, !names(test_df_encoded) %in% extra_cols]\n",
    "}"
   ]
  },
  {
   "cell_type": "markdown",
   "metadata": {},
   "source": [
    "### Making predictions\n",
    "Using the model saved during training."
   ]
  },
  {
   "cell_type": "code",
   "execution_count": 8,
   "metadata": {
    "vscode": {
     "languageId": "r"
    }
   },
   "outputs": [
    {
     "name": "stderr",
     "output_type": "stream",
     "text": [
      "Warning message in predict.lm(model, newdata = df):\n",
      "“prediction from rank-deficient fit; attr(*, \"non-estim\") has doubtful cases”\n"
     ]
    }
   ],
   "source": [
    "# Making predictions\n",
    "model <- readRDS(PREDICTOR_FILE_PATH)\n",
    "predictions <- predict(model, newdata = df)"
   ]
  },
  {
   "cell_type": "markdown",
   "metadata": {},
   "source": [
    "### Creating predictions the Dataframe."
   ]
  },
  {
   "cell_type": "code",
   "execution_count": 9,
   "metadata": {
    "vscode": {
     "languageId": "r"
    }
   },
   "outputs": [],
   "source": [
    "predictions_df <- data.frame(prediction = predictions)\n",
    "predictions_df <- tibble(ids = ids) %>% bind_cols(predictions_df)\n",
    "colnames(predictions_df)[1] <- id_feature\n",
    "\n",
    "write.csv(predictions_df, PREDICTIONS_FILE, row.names = FALSE)"
   ]
  },
  {
   "cell_type": "code",
   "execution_count": null,
   "metadata": {
    "vscode": {
     "languageId": "r"
    }
   },
   "outputs": [],
   "source": []
  }
 ],
 "metadata": {
  "kernelspec": {
   "display_name": "R",
   "language": "R",
   "name": "ir"
  },
  "language_info": {
   "codemirror_mode": "r",
   "file_extension": ".r",
   "mimetype": "text/x-r-source",
   "name": "R",
   "pygments_lexer": "r",
   "version": "4.3.1"
  }
 },
 "nbformat": 4,
 "nbformat_minor": 4
}
