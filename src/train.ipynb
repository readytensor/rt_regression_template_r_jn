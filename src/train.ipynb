{
 "cells": [
  {
   "cell_type": "markdown",
   "metadata": {},
   "source": [
    "## Imports"
   ]
  },
  {
   "cell_type": "code",
   "execution_count": 1,
   "metadata": {
    "vscode": {
     "languageId": "r"
    }
   },
   "outputs": [],
   "source": [
    "# DO NOT CHANGE THESE LINES.\n",
    "suppressWarnings(\n",
    "  suppressMessages({\n",
    "    library(jsonlite)\n",
    "    library(dplyr)\n",
    "    library(tidyr)\n",
    "    library(caret)\n",
    "    library(readr)\n",
    "    library(data.table)\n",
    "    library(fastDummies)\n",
    "    library(nnet)\n",
    "  })\n",
    ")"
   ]
  },
  {
   "cell_type": "markdown",
   "metadata": {},
   "source": [
    "## Paths"
   ]
  },
  {
   "cell_type": "code",
   "execution_count": 2,
   "metadata": {
    "vscode": {
     "languageId": "r"
    }
   },
   "outputs": [],
   "source": [
    "# DO NOT CHANGE THESE LINES.\n",
    "ROOT_DIR <- dirname(getwd())\n",
    "MODEL_INPUTS_OUTPUTS <- file.path(ROOT_DIR, 'model_inputs_outputs')\n",
    "INPUT_DIR <- file.path(MODEL_INPUTS_OUTPUTS, \"inputs\")\n",
    "INPUT_SCHEMA_DIR <- file.path(INPUT_DIR, \"schema\")\n",
    "DATA_DIR <- file.path(INPUT_DIR, \"data\")\n",
    "TRAIN_DIR <- file.path(DATA_DIR, \"training\")\n",
    "MODEL_ARTIFACTS_PATH <- file.path(MODEL_INPUTS_OUTPUTS, \"model\", \"artifacts\")\n",
    "OHE_ENCODER_FILE <- file.path(MODEL_ARTIFACTS_PATH, 'ohe.rds')\n",
    "PREDICTOR_FILE_PATH <- file.path(MODEL_ARTIFACTS_PATH, \"predictor\", \"predictor.rds\")\n",
    "IMPUTATION_FILE <- file.path(MODEL_ARTIFACTS_PATH, 'imputation.rds')\n",
    "LABEL_ENCODER_FILE <- file.path(MODEL_ARTIFACTS_PATH, 'label_encoder.rds')\n",
    "ENCODED_TARGET_FILE <- file.path(MODEL_ARTIFACTS_PATH, \"encoded_target.rds\")\n",
    "TOP_3_CATEGORIES_MAP <- file.path(MODEL_ARTIFACTS_PATH, \"top_3_map.rds\")\n",
    "\n",
    "if (!dir.exists(MODEL_ARTIFACTS_PATH)) {\n",
    "    dir.create(MODEL_ARTIFACTS_PATH, recursive = TRUE)\n",
    "}\n",
    "if (!dir.exists(file.path(MODEL_ARTIFACTS_PATH, \"predictor\"))) {\n",
    "    dir.create(file.path(MODEL_ARTIFACTS_PATH, \"predictor\"))\n",
    "}"
   ]
  },
  {
   "cell_type": "markdown",
   "metadata": {},
   "source": [
    "### Reading the schema\n",
    "The schema contains metadata about the datasets. We will use the scehma to get information about the type of each feature (NUMERIC or CATEGORICAL) and the id and target features, this will be helpful in preprocessing stage."
   ]
  },
  {
   "cell_type": "code",
   "execution_count": 3,
   "metadata": {
    "vscode": {
     "languageId": "r"
    }
   },
   "outputs": [],
   "source": [
    "file_name <- list.files(INPUT_SCHEMA_DIR, pattern = \"*.json\")[1]\n",
    "schema <- fromJSON(file.path(INPUT_SCHEMA_DIR, file_name))\n",
    "features <- schema$features\n",
    "\n",
    "numeric_features <- features$name[features$dataType == \"NUMERIC\"]\n",
    "categorical_features <- features$name[features$dataType == \"CATEGORICAL\"]\n",
    "id_feature <- schema$id$name\n",
    "target_feature <- schema$target$name\n",
    "model_category <- schema$modelCategory\n",
    "nullable_features <- features$name[features$nullable == TRUE]\n"
   ]
  },
  {
   "cell_type": "markdown",
   "metadata": {},
   "source": [
    "### Reading training data"
   ]
  },
  {
   "cell_type": "code",
   "execution_count": 4,
   "metadata": {
    "vscode": {
     "languageId": "r"
    }
   },
   "outputs": [
    {
     "data": {
      "text/html": [
       "<table class=\"dataframe\">\n",
       "<caption>A data.frame: 6 × 42</caption>\n",
       "<thead>\n",
       "\t<tr><th></th><th scope=col>unit_id</th><th scope=col>act_combined_midrange</th><th scope=col>act_english_midrange</th><th scope=col>act_math_midrange</th><th scope=col>act_writing_midrange</th><th scope=col>admission_rate</th><th scope=col>agege24</th><th scope=col>average_cost_academic_year</th><th scope=col>average_cost_program_year</th><th scope=col>carnegie_basic_classification</th><th scope=col>⋯</th><th scope=col>sat_math_midrange</th><th scope=col>sat_total_average</th><th scope=col>sat_verbal_midrange</th><th scope=col>sat_writing_midrange</th><th scope=col>spend_per_student</th><th scope=col>state</th><th scope=col>tuition_(instate)</th><th scope=col>tuition_(out_of_state)</th><th scope=col>undergrad_size</th><th scope=col>percent_pell_grant</th></tr>\n",
       "\t<tr><th></th><th scope=col>&lt;int&gt;</th><th scope=col>&lt;dbl&gt;</th><th scope=col>&lt;dbl&gt;</th><th scope=col>&lt;dbl&gt;</th><th scope=col>&lt;dbl&gt;</th><th scope=col>&lt;dbl&gt;</th><th scope=col>&lt;dbl&gt;</th><th scope=col>&lt;dbl&gt;</th><th scope=col>&lt;dbl&gt;</th><th scope=col>&lt;chr&gt;</th><th scope=col>⋯</th><th scope=col>&lt;dbl&gt;</th><th scope=col>&lt;dbl&gt;</th><th scope=col>&lt;dbl&gt;</th><th scope=col>&lt;dbl&gt;</th><th scope=col>&lt;dbl&gt;</th><th scope=col>&lt;chr&gt;</th><th scope=col>&lt;dbl&gt;</th><th scope=col>&lt;dbl&gt;</th><th scope=col>&lt;dbl&gt;</th><th scope=col>&lt;dbl&gt;</th></tr>\n",
       "</thead>\n",
       "<tbody>\n",
       "\t<tr><th scope=row>1</th><td>123341</td><td>NA</td><td>NA</td><td>NA</td><td>NA</td><td>    NA</td><td>0.48</td><td>13157</td><td>   NA</td><td>Associate\\s--Public Suburban-serving Multicampus'          </td><td>⋯</td><td>NA</td><td>NA</td><td>NA</td><td>NA</td><td> 3674</td><td>CA</td><td> 1150</td><td> 6190</td><td>17195</td><td>0.3146</td></tr>\n",
       "\t<tr><th scope=row>2</th><td>172495</td><td>NA</td><td>NA</td><td>NA</td><td>NA</td><td>    NA</td><td>0.46</td><td>   NA</td><td>17013</td><td>                                                            </td><td>⋯</td><td>NA</td><td>NA</td><td>NA</td><td>NA</td><td> 2015</td><td>MI</td><td>   NA</td><td>   NA</td><td>  111</td><td>0.6520</td></tr>\n",
       "\t<tr><th scope=row>3</th><td>419457</td><td>NA</td><td>NA</td><td>NA</td><td>NA</td><td>    NA</td><td>0.62</td><td>23317</td><td>   NA</td><td>Special Focus Institutions--Other health professions schools</td><td>⋯</td><td>NA</td><td>NA</td><td>NA</td><td>NA</td><td> 6234</td><td>VA</td><td>13663</td><td>13663</td><td>  126</td><td>0.5495</td></tr>\n",
       "\t<tr><th scope=row>4</th><td>455725</td><td>NA</td><td>NA</td><td>NA</td><td>NA</td><td>    NA</td><td>  NA</td><td>   NA</td><td>15564</td><td>                                                            </td><td>⋯</td><td>NA</td><td>NA</td><td>NA</td><td>NA</td><td> 3366</td><td>AZ</td><td>   NA</td><td>   NA</td><td>  363</td><td>0.8227</td></tr>\n",
       "\t<tr><th scope=row>5</th><td>107831</td><td>NA</td><td>NA</td><td>NA</td><td>NA</td><td>    NA</td><td>0.54</td><td>   NA</td><td>18967</td><td>                                                            </td><td>⋯</td><td>NA</td><td>NA</td><td>NA</td><td>NA</td><td>  971</td><td>AR</td><td>   NA</td><td>   NA</td><td>  104</td><td>0.4621</td></tr>\n",
       "\t<tr><th scope=row>6</th><td>210304</td><td>NA</td><td>NA</td><td>NA</td><td>NA</td><td>0.5274</td><td>0.53</td><td>30830</td><td>   NA</td><td>Baccalaureate Colleges--Diverse Fields                      </td><td>⋯</td><td>NA</td><td>NA</td><td>NA</td><td>NA</td><td>10245</td><td>OR</td><td>19770</td><td>19770</td><td>  501</td><td>0.5336</td></tr>\n",
       "</tbody>\n",
       "</table>\n"
      ],
      "text/latex": [
       "A data.frame: 6 × 42\n",
       "\\begin{tabular}{r|lllllllllllllllllllll}\n",
       "  & unit\\_id & act\\_combined\\_midrange & act\\_english\\_midrange & act\\_math\\_midrange & act\\_writing\\_midrange & admission\\_rate & agege24 & average\\_cost\\_academic\\_year & average\\_cost\\_program\\_year & carnegie\\_basic\\_classification & ⋯ & sat\\_math\\_midrange & sat\\_total\\_average & sat\\_verbal\\_midrange & sat\\_writing\\_midrange & spend\\_per\\_student & state & tuition\\_(instate) & tuition\\_(out\\_of\\_state) & undergrad\\_size & percent\\_pell\\_grant\\\\\n",
       "  & <int> & <dbl> & <dbl> & <dbl> & <dbl> & <dbl> & <dbl> & <dbl> & <dbl> & <chr> & ⋯ & <dbl> & <dbl> & <dbl> & <dbl> & <dbl> & <chr> & <dbl> & <dbl> & <dbl> & <dbl>\\\\\n",
       "\\hline\n",
       "\t1 & 123341 & NA & NA & NA & NA &     NA & 0.48 & 13157 &    NA & Associate\\textbackslash{}s--Public Suburban-serving Multicampus'           & ⋯ & NA & NA & NA & NA &  3674 & CA &  1150 &  6190 & 17195 & 0.3146\\\\\n",
       "\t2 & 172495 & NA & NA & NA & NA &     NA & 0.46 &    NA & 17013 &                                                              & ⋯ & NA & NA & NA & NA &  2015 & MI &    NA &    NA &   111 & 0.6520\\\\\n",
       "\t3 & 419457 & NA & NA & NA & NA &     NA & 0.62 & 23317 &    NA & Special Focus Institutions--Other health professions schools & ⋯ & NA & NA & NA & NA &  6234 & VA & 13663 & 13663 &   126 & 0.5495\\\\\n",
       "\t4 & 455725 & NA & NA & NA & NA &     NA &   NA &    NA & 15564 &                                                              & ⋯ & NA & NA & NA & NA &  3366 & AZ &    NA &    NA &   363 & 0.8227\\\\\n",
       "\t5 & 107831 & NA & NA & NA & NA &     NA & 0.54 &    NA & 18967 &                                                              & ⋯ & NA & NA & NA & NA &   971 & AR &    NA &    NA &   104 & 0.4621\\\\\n",
       "\t6 & 210304 & NA & NA & NA & NA & 0.5274 & 0.53 & 30830 &    NA & Baccalaureate Colleges--Diverse Fields                       & ⋯ & NA & NA & NA & NA & 10245 & OR & 19770 & 19770 &   501 & 0.5336\\\\\n",
       "\\end{tabular}\n"
      ],
      "text/markdown": [
       "\n",
       "A data.frame: 6 × 42\n",
       "\n",
       "| <!--/--> | unit_id &lt;int&gt; | act_combined_midrange &lt;dbl&gt; | act_english_midrange &lt;dbl&gt; | act_math_midrange &lt;dbl&gt; | act_writing_midrange &lt;dbl&gt; | admission_rate &lt;dbl&gt; | agege24 &lt;dbl&gt; | average_cost_academic_year &lt;dbl&gt; | average_cost_program_year &lt;dbl&gt; | carnegie_basic_classification &lt;chr&gt; | ⋯ ⋯ | sat_math_midrange &lt;dbl&gt; | sat_total_average &lt;dbl&gt; | sat_verbal_midrange &lt;dbl&gt; | sat_writing_midrange &lt;dbl&gt; | spend_per_student &lt;dbl&gt; | state &lt;chr&gt; | tuition_(instate) &lt;dbl&gt; | tuition_(out_of_state) &lt;dbl&gt; | undergrad_size &lt;dbl&gt; | percent_pell_grant &lt;dbl&gt; |\n",
       "|---|---|---|---|---|---|---|---|---|---|---|---|---|---|---|---|---|---|---|---|---|---|\n",
       "| 1 | 123341 | NA | NA | NA | NA |     NA | 0.48 | 13157 |    NA | Associate\\s--Public Suburban-serving Multicampus'           | ⋯ | NA | NA | NA | NA |  3674 | CA |  1150 |  6190 | 17195 | 0.3146 |\n",
       "| 2 | 172495 | NA | NA | NA | NA |     NA | 0.46 |    NA | 17013 | <!----> | ⋯ | NA | NA | NA | NA |  2015 | MI |    NA |    NA |   111 | 0.6520 |\n",
       "| 3 | 419457 | NA | NA | NA | NA |     NA | 0.62 | 23317 |    NA | Special Focus Institutions--Other health professions schools | ⋯ | NA | NA | NA | NA |  6234 | VA | 13663 | 13663 |   126 | 0.5495 |\n",
       "| 4 | 455725 | NA | NA | NA | NA |     NA |   NA |    NA | 15564 | <!----> | ⋯ | NA | NA | NA | NA |  3366 | AZ |    NA |    NA |   363 | 0.8227 |\n",
       "| 5 | 107831 | NA | NA | NA | NA |     NA | 0.54 |    NA | 18967 | <!----> | ⋯ | NA | NA | NA | NA |   971 | AR |    NA |    NA |   104 | 0.4621 |\n",
       "| 6 | 210304 | NA | NA | NA | NA | 0.5274 | 0.53 | 30830 |    NA | Baccalaureate Colleges--Diverse Fields                       | ⋯ | NA | NA | NA | NA | 10245 | OR | 19770 | 19770 |   501 | 0.5336 |\n",
       "\n"
      ],
      "text/plain": [
       "  unit_id act_combined_midrange act_english_midrange act_math_midrange\n",
       "1 123341  NA                    NA                   NA               \n",
       "2 172495  NA                    NA                   NA               \n",
       "3 419457  NA                    NA                   NA               \n",
       "4 455725  NA                    NA                   NA               \n",
       "5 107831  NA                    NA                   NA               \n",
       "6 210304  NA                    NA                   NA               \n",
       "  act_writing_midrange admission_rate agege24 average_cost_academic_year\n",
       "1 NA                       NA         0.48    13157                     \n",
       "2 NA                       NA         0.46       NA                     \n",
       "3 NA                       NA         0.62    23317                     \n",
       "4 NA                       NA           NA       NA                     \n",
       "5 NA                       NA         0.54       NA                     \n",
       "6 NA                   0.5274         0.53    30830                     \n",
       "  average_cost_program_year\n",
       "1    NA                    \n",
       "2 17013                    \n",
       "3    NA                    \n",
       "4 15564                    \n",
       "5 18967                    \n",
       "6    NA                    \n",
       "  carnegie_basic_classification                                ⋯\n",
       "1 Associate\\\\s--Public Suburban-serving Multicampus'           ⋯\n",
       "2                                                              ⋯\n",
       "3 Special Focus Institutions--Other health professions schools ⋯\n",
       "4                                                              ⋯\n",
       "5                                                              ⋯\n",
       "6 Baccalaureate Colleges--Diverse Fields                       ⋯\n",
       "  sat_math_midrange sat_total_average sat_verbal_midrange sat_writing_midrange\n",
       "1 NA                NA                NA                  NA                  \n",
       "2 NA                NA                NA                  NA                  \n",
       "3 NA                NA                NA                  NA                  \n",
       "4 NA                NA                NA                  NA                  \n",
       "5 NA                NA                NA                  NA                  \n",
       "6 NA                NA                NA                  NA                  \n",
       "  spend_per_student state tuition_(instate) tuition_(out_of_state)\n",
       "1  3674             CA     1150              6190                 \n",
       "2  2015             MI       NA                NA                 \n",
       "3  6234             VA    13663             13663                 \n",
       "4  3366             AZ       NA                NA                 \n",
       "5   971             AR       NA                NA                 \n",
       "6 10245             OR    19770             19770                 \n",
       "  undergrad_size percent_pell_grant\n",
       "1 17195          0.3146            \n",
       "2   111          0.6520            \n",
       "3   126          0.5495            \n",
       "4   363          0.8227            \n",
       "5   104          0.4621            \n",
       "6   501          0.5336            "
      ]
     },
     "metadata": {},
     "output_type": "display_data"
    }
   ],
   "source": [
    "# Reading training data\n",
    "file_name <- list.files(TRAIN_DIR, pattern = \"*.csv\")[1]\n",
    "# Read the first line to get column names\n",
    "header_line <- readLines(file.path(TRAIN_DIR, file_name), n = 1)\n",
    "col_names <- unlist(strsplit(header_line, split = \",\")) # assuming ',' is the delimiter\n",
    "# Read the CSV with the exact column names\n",
    "df <- read.csv(file.path(TRAIN_DIR, file_name), skip = 0, col.names = col_names, check.names=FALSE)\n",
    "head(df)"
   ]
  },
  {
   "cell_type": "markdown",
   "metadata": {},
   "source": [
    "## Data Preprocessing\n",
    "Data preprocessing is very important before training the model, as the data may contain missing values in some cells. Moreover, most of the learning algorithms cannot work with categorical data, thus the data has to be encoded.\n",
    "\n",
    "In this section we will impute the missing values and encode the categorical features. Afterwards the data will be ready to train the model."
   ]
  },
  {
   "cell_type": "markdown",
   "metadata": {},
   "source": [
    "##### Imputing missing data\n",
    "> The median value will be used to impute missing values of the numeric features and the mode will be used to impute categorical features.\n",
    "\n",
    "##### You can add your own preprocessing steps such as:\n",
    "<ul>\n",
    "<li>Normalization</li> <br>\n",
    "<li>Outlier removal</li><br>\n",
    "<li>Dropping or adding features</li><br>\n",
    "</ul>\n",
    "\n",
    "### Important note:\n",
    "<p> \n",
    "Saving the values used for imputation during training step is crucial. These values will be used to impute missing data in the testing set. This is very important to avoid the well known problem of data leakage. During testing, you should not make any assumptions about the data in hand, alternatively anything needed during the testing phase should be learned from the training phase. This is why we are creating a dictionary of values used during training to reuse these values during testing.\n",
    "</p>\n"
   ]
  },
  {
   "cell_type": "code",
   "execution_count": 5,
   "metadata": {
    "vscode": {
     "languageId": "r"
    }
   },
   "outputs": [
    {
     "data": {
      "text/html": [
       "<table class=\"dataframe\">\n",
       "<caption>A data.frame: 6 × 42</caption>\n",
       "<thead>\n",
       "\t<tr><th></th><th scope=col>unit_id</th><th scope=col>act_combined_midrange</th><th scope=col>act_english_midrange</th><th scope=col>act_math_midrange</th><th scope=col>act_writing_midrange</th><th scope=col>admission_rate</th><th scope=col>agege24</th><th scope=col>average_cost_academic_year</th><th scope=col>average_cost_program_year</th><th scope=col>carnegie_basic_classification</th><th scope=col>⋯</th><th scope=col>sat_math_midrange</th><th scope=col>sat_total_average</th><th scope=col>sat_verbal_midrange</th><th scope=col>sat_writing_midrange</th><th scope=col>spend_per_student</th><th scope=col>state</th><th scope=col>tuition_(instate)</th><th scope=col>tuition_(out_of_state)</th><th scope=col>undergrad_size</th><th scope=col>percent_pell_grant</th></tr>\n",
       "\t<tr><th></th><th scope=col>&lt;int&gt;</th><th scope=col>&lt;dbl&gt;</th><th scope=col>&lt;dbl&gt;</th><th scope=col>&lt;dbl&gt;</th><th scope=col>&lt;dbl&gt;</th><th scope=col>&lt;dbl&gt;</th><th scope=col>&lt;dbl&gt;</th><th scope=col>&lt;dbl&gt;</th><th scope=col>&lt;dbl&gt;</th><th scope=col>&lt;chr&gt;</th><th scope=col>⋯</th><th scope=col>&lt;dbl&gt;</th><th scope=col>&lt;dbl&gt;</th><th scope=col>&lt;dbl&gt;</th><th scope=col>&lt;dbl&gt;</th><th scope=col>&lt;dbl&gt;</th><th scope=col>&lt;chr&gt;</th><th scope=col>&lt;dbl&gt;</th><th scope=col>&lt;dbl&gt;</th><th scope=col>&lt;dbl&gt;</th><th scope=col>&lt;dbl&gt;</th></tr>\n",
       "</thead>\n",
       "<tbody>\n",
       "\t<tr><th scope=row>1</th><td>123341</td><td>23</td><td>22</td><td>22</td><td>7</td><td>0.6976</td><td>0.48</td><td>13157</td><td>17831</td><td>Associate\\s--Public Suburban-serving Multicampus'          </td><td>⋯</td><td>520</td><td>1035.5</td><td>514</td><td>510</td><td> 3674</td><td>CA</td><td> 1150</td><td> 6190</td><td>17195</td><td>0.3146</td></tr>\n",
       "\t<tr><th scope=row>2</th><td>172495</td><td>23</td><td>22</td><td>22</td><td>7</td><td>0.6976</td><td>0.46</td><td>22933</td><td>17013</td><td>                                                            </td><td>⋯</td><td>520</td><td>1035.5</td><td>514</td><td>510</td><td> 2015</td><td>MI</td><td>11736</td><td>14498</td><td>  111</td><td>0.6520</td></tr>\n",
       "\t<tr><th scope=row>3</th><td>419457</td><td>23</td><td>22</td><td>22</td><td>7</td><td>0.6976</td><td>0.62</td><td>23317</td><td>17831</td><td>Special Focus Institutions--Other health professions schools</td><td>⋯</td><td>520</td><td>1035.5</td><td>514</td><td>510</td><td> 6234</td><td>VA</td><td>13663</td><td>13663</td><td>  126</td><td>0.5495</td></tr>\n",
       "\t<tr><th scope=row>4</th><td>455725</td><td>23</td><td>22</td><td>22</td><td>7</td><td>0.6976</td><td>0.46</td><td>22933</td><td>15564</td><td>                                                            </td><td>⋯</td><td>520</td><td>1035.5</td><td>514</td><td>510</td><td> 3366</td><td>AZ</td><td>11736</td><td>14498</td><td>  363</td><td>0.8227</td></tr>\n",
       "\t<tr><th scope=row>5</th><td>107831</td><td>23</td><td>22</td><td>22</td><td>7</td><td>0.6976</td><td>0.54</td><td>22933</td><td>18967</td><td>                                                            </td><td>⋯</td><td>520</td><td>1035.5</td><td>514</td><td>510</td><td>  971</td><td>AR</td><td>11736</td><td>14498</td><td>  104</td><td>0.4621</td></tr>\n",
       "\t<tr><th scope=row>6</th><td>210304</td><td>23</td><td>22</td><td>22</td><td>7</td><td>0.5274</td><td>0.53</td><td>30830</td><td>17831</td><td>Baccalaureate Colleges--Diverse Fields                      </td><td>⋯</td><td>520</td><td>1035.5</td><td>514</td><td>510</td><td>10245</td><td>OR</td><td>19770</td><td>19770</td><td>  501</td><td>0.5336</td></tr>\n",
       "</tbody>\n",
       "</table>\n"
      ],
      "text/latex": [
       "A data.frame: 6 × 42\n",
       "\\begin{tabular}{r|lllllllllllllllllllll}\n",
       "  & unit\\_id & act\\_combined\\_midrange & act\\_english\\_midrange & act\\_math\\_midrange & act\\_writing\\_midrange & admission\\_rate & agege24 & average\\_cost\\_academic\\_year & average\\_cost\\_program\\_year & carnegie\\_basic\\_classification & ⋯ & sat\\_math\\_midrange & sat\\_total\\_average & sat\\_verbal\\_midrange & sat\\_writing\\_midrange & spend\\_per\\_student & state & tuition\\_(instate) & tuition\\_(out\\_of\\_state) & undergrad\\_size & percent\\_pell\\_grant\\\\\n",
       "  & <int> & <dbl> & <dbl> & <dbl> & <dbl> & <dbl> & <dbl> & <dbl> & <dbl> & <chr> & ⋯ & <dbl> & <dbl> & <dbl> & <dbl> & <dbl> & <chr> & <dbl> & <dbl> & <dbl> & <dbl>\\\\\n",
       "\\hline\n",
       "\t1 & 123341 & 23 & 22 & 22 & 7 & 0.6976 & 0.48 & 13157 & 17831 & Associate\\textbackslash{}s--Public Suburban-serving Multicampus'           & ⋯ & 520 & 1035.5 & 514 & 510 &  3674 & CA &  1150 &  6190 & 17195 & 0.3146\\\\\n",
       "\t2 & 172495 & 23 & 22 & 22 & 7 & 0.6976 & 0.46 & 22933 & 17013 &                                                              & ⋯ & 520 & 1035.5 & 514 & 510 &  2015 & MI & 11736 & 14498 &   111 & 0.6520\\\\\n",
       "\t3 & 419457 & 23 & 22 & 22 & 7 & 0.6976 & 0.62 & 23317 & 17831 & Special Focus Institutions--Other health professions schools & ⋯ & 520 & 1035.5 & 514 & 510 &  6234 & VA & 13663 & 13663 &   126 & 0.5495\\\\\n",
       "\t4 & 455725 & 23 & 22 & 22 & 7 & 0.6976 & 0.46 & 22933 & 15564 &                                                              & ⋯ & 520 & 1035.5 & 514 & 510 &  3366 & AZ & 11736 & 14498 &   363 & 0.8227\\\\\n",
       "\t5 & 107831 & 23 & 22 & 22 & 7 & 0.6976 & 0.54 & 22933 & 18967 &                                                              & ⋯ & 520 & 1035.5 & 514 & 510 &   971 & AR & 11736 & 14498 &   104 & 0.4621\\\\\n",
       "\t6 & 210304 & 23 & 22 & 22 & 7 & 0.5274 & 0.53 & 30830 & 17831 & Baccalaureate Colleges--Diverse Fields                       & ⋯ & 520 & 1035.5 & 514 & 510 & 10245 & OR & 19770 & 19770 &   501 & 0.5336\\\\\n",
       "\\end{tabular}\n"
      ],
      "text/markdown": [
       "\n",
       "A data.frame: 6 × 42\n",
       "\n",
       "| <!--/--> | unit_id &lt;int&gt; | act_combined_midrange &lt;dbl&gt; | act_english_midrange &lt;dbl&gt; | act_math_midrange &lt;dbl&gt; | act_writing_midrange &lt;dbl&gt; | admission_rate &lt;dbl&gt; | agege24 &lt;dbl&gt; | average_cost_academic_year &lt;dbl&gt; | average_cost_program_year &lt;dbl&gt; | carnegie_basic_classification &lt;chr&gt; | ⋯ ⋯ | sat_math_midrange &lt;dbl&gt; | sat_total_average &lt;dbl&gt; | sat_verbal_midrange &lt;dbl&gt; | sat_writing_midrange &lt;dbl&gt; | spend_per_student &lt;dbl&gt; | state &lt;chr&gt; | tuition_(instate) &lt;dbl&gt; | tuition_(out_of_state) &lt;dbl&gt; | undergrad_size &lt;dbl&gt; | percent_pell_grant &lt;dbl&gt; |\n",
       "|---|---|---|---|---|---|---|---|---|---|---|---|---|---|---|---|---|---|---|---|---|---|\n",
       "| 1 | 123341 | 23 | 22 | 22 | 7 | 0.6976 | 0.48 | 13157 | 17831 | Associate\\s--Public Suburban-serving Multicampus'           | ⋯ | 520 | 1035.5 | 514 | 510 |  3674 | CA |  1150 |  6190 | 17195 | 0.3146 |\n",
       "| 2 | 172495 | 23 | 22 | 22 | 7 | 0.6976 | 0.46 | 22933 | 17013 | <!----> | ⋯ | 520 | 1035.5 | 514 | 510 |  2015 | MI | 11736 | 14498 |   111 | 0.6520 |\n",
       "| 3 | 419457 | 23 | 22 | 22 | 7 | 0.6976 | 0.62 | 23317 | 17831 | Special Focus Institutions--Other health professions schools | ⋯ | 520 | 1035.5 | 514 | 510 |  6234 | VA | 13663 | 13663 |   126 | 0.5495 |\n",
       "| 4 | 455725 | 23 | 22 | 22 | 7 | 0.6976 | 0.46 | 22933 | 15564 | <!----> | ⋯ | 520 | 1035.5 | 514 | 510 |  3366 | AZ | 11736 | 14498 |   363 | 0.8227 |\n",
       "| 5 | 107831 | 23 | 22 | 22 | 7 | 0.6976 | 0.54 | 22933 | 18967 | <!----> | ⋯ | 520 | 1035.5 | 514 | 510 |   971 | AR | 11736 | 14498 |   104 | 0.4621 |\n",
       "| 6 | 210304 | 23 | 22 | 22 | 7 | 0.5274 | 0.53 | 30830 | 17831 | Baccalaureate Colleges--Diverse Fields                       | ⋯ | 520 | 1035.5 | 514 | 510 | 10245 | OR | 19770 | 19770 |   501 | 0.5336 |\n",
       "\n"
      ],
      "text/plain": [
       "  unit_id act_combined_midrange act_english_midrange act_math_midrange\n",
       "1 123341  23                    22                   22               \n",
       "2 172495  23                    22                   22               \n",
       "3 419457  23                    22                   22               \n",
       "4 455725  23                    22                   22               \n",
       "5 107831  23                    22                   22               \n",
       "6 210304  23                    22                   22               \n",
       "  act_writing_midrange admission_rate agege24 average_cost_academic_year\n",
       "1 7                    0.6976         0.48    13157                     \n",
       "2 7                    0.6976         0.46    22933                     \n",
       "3 7                    0.6976         0.62    23317                     \n",
       "4 7                    0.6976         0.46    22933                     \n",
       "5 7                    0.6976         0.54    22933                     \n",
       "6 7                    0.5274         0.53    30830                     \n",
       "  average_cost_program_year\n",
       "1 17831                    \n",
       "2 17013                    \n",
       "3 17831                    \n",
       "4 15564                    \n",
       "5 18967                    \n",
       "6 17831                    \n",
       "  carnegie_basic_classification                                ⋯\n",
       "1 Associate\\\\s--Public Suburban-serving Multicampus'           ⋯\n",
       "2                                                              ⋯\n",
       "3 Special Focus Institutions--Other health professions schools ⋯\n",
       "4                                                              ⋯\n",
       "5                                                              ⋯\n",
       "6 Baccalaureate Colleges--Diverse Fields                       ⋯\n",
       "  sat_math_midrange sat_total_average sat_verbal_midrange sat_writing_midrange\n",
       "1 520               1035.5            514                 510                 \n",
       "2 520               1035.5            514                 510                 \n",
       "3 520               1035.5            514                 510                 \n",
       "4 520               1035.5            514                 510                 \n",
       "5 520               1035.5            514                 510                 \n",
       "6 520               1035.5            514                 510                 \n",
       "  spend_per_student state tuition_(instate) tuition_(out_of_state)\n",
       "1  3674             CA     1150              6190                 \n",
       "2  2015             MI    11736             14498                 \n",
       "3  6234             VA    13663             13663                 \n",
       "4  3366             AZ    11736             14498                 \n",
       "5   971             AR    11736             14498                 \n",
       "6 10245             OR    19770             19770                 \n",
       "  undergrad_size percent_pell_grant\n",
       "1 17195          0.3146            \n",
       "2   111          0.6520            \n",
       "3   126          0.5495            \n",
       "4   363          0.8227            \n",
       "5   104          0.4621            \n",
       "6   501          0.5336            "
      ]
     },
     "metadata": {},
     "output_type": "display_data"
    }
   ],
   "source": [
    "imputation_values <- list()\n",
    "\n",
    "for (column in nullable_features) {\n",
    "    if (column %in% numeric_features) {\n",
    "        value <- median(df[, column], na.rm = TRUE)\n",
    "    } else {\n",
    "        value <- as.character(df[, column] %>% tidyr::replace_na())\n",
    "        value <- value[1]\n",
    "    }\n",
    "    df[, column][is.na(df[, column])] <- value\n",
    "    imputation_values[column] <- value\n",
    "}\n",
    "saveRDS(imputation_values, IMPUTATION_FILE)\n",
    "head(df)"
   ]
  },
  {
   "cell_type": "markdown",
   "metadata": {},
   "source": [
    "##### Encoding Categorical features\n",
    "<p>\n",
    "The id column is just an identifier for the training example, so we will exclude it during the encoding phase.<br>\n",
    "Target feature will be label encoded in the next step.\n",
    "</p>\n"
   ]
  },
  {
   "cell_type": "code",
   "execution_count": 6,
   "metadata": {
    "vscode": {
     "languageId": "r"
    }
   },
   "outputs": [
    {
     "data": {
      "text/html": [
       "<table class=\"dataframe\">\n",
       "<caption>A data.frame: 6 × 68</caption>\n",
       "<thead>\n",
       "\t<tr><th></th><th scope=col>act_combined_midrange</th><th scope=col>act_english_midrange</th><th scope=col>act_math_midrange</th><th scope=col>act_writing_midrange</th><th scope=col>admission_rate</th><th scope=col>agege24</th><th scope=col>average_cost_academic_year</th><th scope=col>average_cost_program_year</th><th scope=col>completion_rate</th><th scope=col>faculty_salary</th><th scope=col>⋯</th><th scope=col>region_Other</th><th scope=col>region_Southeast (AL, AR, FL, GA, KY, LA, MS, NC, SC, TN, VA, WV)</th><th scope=col>religious_affiliation_</th><th scope=col>religious_affiliation_Other</th><th scope=col>religious_affiliation_Roman Catholic</th><th scope=col>religious_affiliation_United Methodist</th><th scope=col>state_CA</th><th scope=col>state_NY</th><th scope=col>state_Other</th><th scope=col>state_TX</th></tr>\n",
       "\t<tr><th></th><th scope=col>&lt;dbl&gt;</th><th scope=col>&lt;dbl&gt;</th><th scope=col>&lt;dbl&gt;</th><th scope=col>&lt;dbl&gt;</th><th scope=col>&lt;dbl&gt;</th><th scope=col>&lt;dbl&gt;</th><th scope=col>&lt;dbl&gt;</th><th scope=col>&lt;dbl&gt;</th><th scope=col>&lt;dbl&gt;</th><th scope=col>&lt;dbl&gt;</th><th scope=col>⋯</th><th scope=col>&lt;int&gt;</th><th scope=col>&lt;int&gt;</th><th scope=col>&lt;int&gt;</th><th scope=col>&lt;int&gt;</th><th scope=col>&lt;int&gt;</th><th scope=col>&lt;int&gt;</th><th scope=col>&lt;int&gt;</th><th scope=col>&lt;int&gt;</th><th scope=col>&lt;int&gt;</th><th scope=col>&lt;int&gt;</th></tr>\n",
       "</thead>\n",
       "<tbody>\n",
       "\t<tr><th scope=row>1</th><td>23</td><td>22</td><td>22</td><td>7</td><td>0.6976</td><td>0.48</td><td>13157</td><td>17831</td><td>0.4638</td><td>7123</td><td>⋯</td><td>1</td><td>0</td><td>1</td><td>0</td><td>0</td><td>0</td><td>1</td><td>0</td><td>0</td><td>0</td></tr>\n",
       "\t<tr><th scope=row>2</th><td>23</td><td>22</td><td>22</td><td>7</td><td>0.6976</td><td>0.46</td><td>22933</td><td>17013</td><td>0.4638</td><td>5751</td><td>⋯</td><td>0</td><td>0</td><td>1</td><td>0</td><td>0</td><td>0</td><td>0</td><td>0</td><td>1</td><td>0</td></tr>\n",
       "\t<tr><th scope=row>3</th><td>23</td><td>22</td><td>22</td><td>7</td><td>0.6976</td><td>0.62</td><td>23317</td><td>17831</td><td>0.5000</td><td>6281</td><td>⋯</td><td>0</td><td>1</td><td>1</td><td>0</td><td>0</td><td>0</td><td>0</td><td>0</td><td>1</td><td>0</td></tr>\n",
       "\t<tr><th scope=row>4</th><td>23</td><td>22</td><td>22</td><td>7</td><td>0.6976</td><td>0.46</td><td>22933</td><td>15564</td><td>0.4638</td><td>5751</td><td>⋯</td><td>1</td><td>0</td><td>1</td><td>0</td><td>0</td><td>0</td><td>0</td><td>0</td><td>1</td><td>0</td></tr>\n",
       "\t<tr><th scope=row>5</th><td>23</td><td>22</td><td>22</td><td>7</td><td>0.6976</td><td>0.54</td><td>22933</td><td>18967</td><td>0.4638</td><td>5751</td><td>⋯</td><td>0</td><td>1</td><td>1</td><td>0</td><td>0</td><td>0</td><td>0</td><td>0</td><td>1</td><td>0</td></tr>\n",
       "\t<tr><th scope=row>6</th><td>23</td><td>22</td><td>22</td><td>7</td><td>0.5274</td><td>0.53</td><td>30830</td><td>17831</td><td>0.3152</td><td>6560</td><td>⋯</td><td>1</td><td>0</td><td>0</td><td>1</td><td>0</td><td>0</td><td>0</td><td>0</td><td>1</td><td>0</td></tr>\n",
       "</tbody>\n",
       "</table>\n"
      ],
      "text/latex": [
       "A data.frame: 6 × 68\n",
       "\\begin{tabular}{r|lllllllllllllllllllll}\n",
       "  & act\\_combined\\_midrange & act\\_english\\_midrange & act\\_math\\_midrange & act\\_writing\\_midrange & admission\\_rate & agege24 & average\\_cost\\_academic\\_year & average\\_cost\\_program\\_year & completion\\_rate & faculty\\_salary & ⋯ & region\\_Other & region\\_Southeast (AL, AR, FL, GA, KY, LA, MS, NC, SC, TN, VA, WV) & religious\\_affiliation\\_ & religious\\_affiliation\\_Other & religious\\_affiliation\\_Roman Catholic & religious\\_affiliation\\_United Methodist & state\\_CA & state\\_NY & state\\_Other & state\\_TX\\\\\n",
       "  & <dbl> & <dbl> & <dbl> & <dbl> & <dbl> & <dbl> & <dbl> & <dbl> & <dbl> & <dbl> & ⋯ & <int> & <int> & <int> & <int> & <int> & <int> & <int> & <int> & <int> & <int>\\\\\n",
       "\\hline\n",
       "\t1 & 23 & 22 & 22 & 7 & 0.6976 & 0.48 & 13157 & 17831 & 0.4638 & 7123 & ⋯ & 1 & 0 & 1 & 0 & 0 & 0 & 1 & 0 & 0 & 0\\\\\n",
       "\t2 & 23 & 22 & 22 & 7 & 0.6976 & 0.46 & 22933 & 17013 & 0.4638 & 5751 & ⋯ & 0 & 0 & 1 & 0 & 0 & 0 & 0 & 0 & 1 & 0\\\\\n",
       "\t3 & 23 & 22 & 22 & 7 & 0.6976 & 0.62 & 23317 & 17831 & 0.5000 & 6281 & ⋯ & 0 & 1 & 1 & 0 & 0 & 0 & 0 & 0 & 1 & 0\\\\\n",
       "\t4 & 23 & 22 & 22 & 7 & 0.6976 & 0.46 & 22933 & 15564 & 0.4638 & 5751 & ⋯ & 1 & 0 & 1 & 0 & 0 & 0 & 0 & 0 & 1 & 0\\\\\n",
       "\t5 & 23 & 22 & 22 & 7 & 0.6976 & 0.54 & 22933 & 18967 & 0.4638 & 5751 & ⋯ & 0 & 1 & 1 & 0 & 0 & 0 & 0 & 0 & 1 & 0\\\\\n",
       "\t6 & 23 & 22 & 22 & 7 & 0.5274 & 0.53 & 30830 & 17831 & 0.3152 & 6560 & ⋯ & 1 & 0 & 0 & 1 & 0 & 0 & 0 & 0 & 1 & 0\\\\\n",
       "\\end{tabular}\n"
      ],
      "text/markdown": [
       "\n",
       "A data.frame: 6 × 68\n",
       "\n",
       "| <!--/--> | act_combined_midrange &lt;dbl&gt; | act_english_midrange &lt;dbl&gt; | act_math_midrange &lt;dbl&gt; | act_writing_midrange &lt;dbl&gt; | admission_rate &lt;dbl&gt; | agege24 &lt;dbl&gt; | average_cost_academic_year &lt;dbl&gt; | average_cost_program_year &lt;dbl&gt; | completion_rate &lt;dbl&gt; | faculty_salary &lt;dbl&gt; | ⋯ ⋯ | region_Other &lt;int&gt; | region_Southeast (AL, AR, FL, GA, KY, LA, MS, NC, SC, TN, VA, WV) &lt;int&gt; | religious_affiliation_ &lt;int&gt; | religious_affiliation_Other &lt;int&gt; | religious_affiliation_Roman Catholic &lt;int&gt; | religious_affiliation_United Methodist &lt;int&gt; | state_CA &lt;int&gt; | state_NY &lt;int&gt; | state_Other &lt;int&gt; | state_TX &lt;int&gt; |\n",
       "|---|---|---|---|---|---|---|---|---|---|---|---|---|---|---|---|---|---|---|---|---|---|\n",
       "| 1 | 23 | 22 | 22 | 7 | 0.6976 | 0.48 | 13157 | 17831 | 0.4638 | 7123 | ⋯ | 1 | 0 | 1 | 0 | 0 | 0 | 1 | 0 | 0 | 0 |\n",
       "| 2 | 23 | 22 | 22 | 7 | 0.6976 | 0.46 | 22933 | 17013 | 0.4638 | 5751 | ⋯ | 0 | 0 | 1 | 0 | 0 | 0 | 0 | 0 | 1 | 0 |\n",
       "| 3 | 23 | 22 | 22 | 7 | 0.6976 | 0.62 | 23317 | 17831 | 0.5000 | 6281 | ⋯ | 0 | 1 | 1 | 0 | 0 | 0 | 0 | 0 | 1 | 0 |\n",
       "| 4 | 23 | 22 | 22 | 7 | 0.6976 | 0.46 | 22933 | 15564 | 0.4638 | 5751 | ⋯ | 1 | 0 | 1 | 0 | 0 | 0 | 0 | 0 | 1 | 0 |\n",
       "| 5 | 23 | 22 | 22 | 7 | 0.6976 | 0.54 | 22933 | 18967 | 0.4638 | 5751 | ⋯ | 0 | 1 | 1 | 0 | 0 | 0 | 0 | 0 | 1 | 0 |\n",
       "| 6 | 23 | 22 | 22 | 7 | 0.5274 | 0.53 | 30830 | 17831 | 0.3152 | 6560 | ⋯ | 1 | 0 | 0 | 1 | 0 | 0 | 0 | 0 | 1 | 0 |\n",
       "\n"
      ],
      "text/plain": [
       "  act_combined_midrange act_english_midrange act_math_midrange\n",
       "1 23                    22                   22               \n",
       "2 23                    22                   22               \n",
       "3 23                    22                   22               \n",
       "4 23                    22                   22               \n",
       "5 23                    22                   22               \n",
       "6 23                    22                   22               \n",
       "  act_writing_midrange admission_rate agege24 average_cost_academic_year\n",
       "1 7                    0.6976         0.48    13157                     \n",
       "2 7                    0.6976         0.46    22933                     \n",
       "3 7                    0.6976         0.62    23317                     \n",
       "4 7                    0.6976         0.46    22933                     \n",
       "5 7                    0.6976         0.54    22933                     \n",
       "6 7                    0.5274         0.53    30830                     \n",
       "  average_cost_program_year completion_rate faculty_salary ⋯ region_Other\n",
       "1 17831                     0.4638          7123           ⋯ 1           \n",
       "2 17013                     0.4638          5751           ⋯ 0           \n",
       "3 17831                     0.5000          6281           ⋯ 0           \n",
       "4 15564                     0.4638          5751           ⋯ 1           \n",
       "5 18967                     0.4638          5751           ⋯ 0           \n",
       "6 17831                     0.3152          6560           ⋯ 1           \n",
       "  region_Southeast (AL, AR, FL, GA, KY, LA, MS, NC, SC, TN, VA, WV)\n",
       "1 0                                                                \n",
       "2 0                                                                \n",
       "3 1                                                                \n",
       "4 0                                                                \n",
       "5 1                                                                \n",
       "6 0                                                                \n",
       "  religious_affiliation_ religious_affiliation_Other\n",
       "1 1                      0                          \n",
       "2 1                      0                          \n",
       "3 1                      0                          \n",
       "4 1                      0                          \n",
       "5 1                      0                          \n",
       "6 0                      1                          \n",
       "  religious_affiliation_Roman Catholic religious_affiliation_United Methodist\n",
       "1 0                                    0                                     \n",
       "2 0                                    0                                     \n",
       "3 0                                    0                                     \n",
       "4 0                                    0                                     \n",
       "5 0                                    0                                     \n",
       "6 0                                    0                                     \n",
       "  state_CA state_NY state_Other state_TX\n",
       "1 1        0        0           0       \n",
       "2 0        0        1           0       \n",
       "3 0        0        1           0       \n",
       "4 0        0        1           0       \n",
       "5 0        0        1           0       \n",
       "6 0        0        1           0       "
      ]
     },
     "metadata": {},
     "output_type": "display_data"
    }
   ],
   "source": [
    "# Encoding Categorical features\n",
    "ids <- df[, id_feature]\n",
    "target <- df[, target_feature]\n",
    "df <- df %>% select(-all_of(c(id_feature, target_feature)))\n",
    "\n",
    "\n",
    "# One Hot Encoding\n",
    "if(length(categorical_features) > 0){\n",
    "    top_3_map <- list()\n",
    "    for(col in categorical_features) {\n",
    "        # Get the top 3 categories for the column\n",
    "        top_3_categories <- names(sort(table(df[[col]]), decreasing = TRUE)[1:3])\n",
    "\n",
    "        # Save the top 3 categories for this column\n",
    "        top_3_map[[col]] <- top_3_categories\n",
    "        # Replace categories outside the top 3 with \"Other\"\n",
    "        df[[col]][!(df[[col]] %in% top_3_categories)] <- \"Other\"\n",
    "    }\n",
    "\n",
    "    df_encoded <- dummy_cols(df, select_columns = categorical_features, remove_selected_columns = TRUE)\n",
    "    encoded_columns <- setdiff(colnames(df_encoded), colnames(df))\n",
    "    saveRDS(encoded_columns, OHE_ENCODER_FILE)\n",
    "    saveRDS(top_3_map, TOP_3_CATEGORIES_MAP)\n",
    "    df <- df_encoded\n",
    "}\n",
    "head(df)\n"
   ]
  },
  {
   "cell_type": "markdown",
   "metadata": {},
   "source": [
    "### Training the model\n",
    "We choose Linear Regression, but feel free to try your own and compare the results."
   ]
  },
  {
   "cell_type": "code",
   "execution_count": 7,
   "metadata": {
    "vscode": {
     "languageId": "r"
    }
   },
   "outputs": [],
   "source": [
    "# Train the model\n",
    "model <- lm(target ~ ., data = df)\n",
    "saveRDS(model, PREDICTOR_FILE_PATH)"
   ]
  },
  {
   "cell_type": "code",
   "execution_count": null,
   "metadata": {
    "vscode": {
     "languageId": "r"
    }
   },
   "outputs": [],
   "source": []
  }
 ],
 "metadata": {
  "kernelspec": {
   "display_name": "R",
   "language": "R",
   "name": "ir"
  },
  "language_info": {
   "codemirror_mode": "r",
   "file_extension": ".r",
   "mimetype": "text/x-r-source",
   "name": "R",
   "pygments_lexer": "r",
   "version": "4.3.1"
  }
 },
 "nbformat": 4,
 "nbformat_minor": 4
}
